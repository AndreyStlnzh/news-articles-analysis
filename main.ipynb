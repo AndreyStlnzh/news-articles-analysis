{
 "cells": [
  {
   "cell_type": "markdown",
   "metadata": {},
   "source": [
    "# Блокнот для написания обработки данных (transform), полученных с newsApi"
   ]
  },
  {
   "cell_type": "markdown",
   "metadata": {},
   "source": [
    "## Возможные операции трансформации данных:\n",
    "- Очистка данных (удаление неиспользуемых признаков, дубликатов, выбросов)\n",
    "- Переформатирование (форматирование данных с разных источников. Форматы дат, валюты и тп)\n",
    "- Извлечение признаков (создание новых признаков на основе существующих)\n",
    "- Агрегация (получение необходимых показателей)\n",
    "- Объединение (объединение данных с нескольких источников)\n",
    "- Фильтрация (исключение ненужных категорий из набора данных)"
   ]
  },
  {
   "cell_type": "code",
   "execution_count": 93,
   "metadata": {},
   "outputs": [],
   "source": [
    "import numpy as np\n",
    "import pandas as pd"
   ]
  },
  {
   "cell_type": "code",
   "execution_count": 94,
   "metadata": {},
   "outputs": [],
   "source": [
    "data = pd.read_csv(\"./data_apple.csv\", index_col=0)"
   ]
  },
  {
   "cell_type": "code",
   "execution_count": 95,
   "metadata": {},
   "outputs": [
    {
     "name": "stdout",
     "output_type": "stream",
     "text": [
      "<class 'pandas.core.frame.DataFrame'>\n",
      "Index: 494 entries, 0 to 493\n",
      "Data columns (total 9 columns):\n",
      " #   Column       Non-Null Count  Dtype \n",
      "---  ------       --------------  ----- \n",
      " 0   author       478 non-null    object\n",
      " 1   title        494 non-null    object\n",
      " 2   description  486 non-null    object\n",
      " 3   url          494 non-null    object\n",
      " 4   urlToImage   486 non-null    object\n",
      " 5   publishedAt  494 non-null    object\n",
      " 6   content      494 non-null    object\n",
      " 7   source.id    29 non-null     object\n",
      " 8   source.name  494 non-null    object\n",
      "dtypes: object(9)\n",
      "memory usage: 38.6+ KB\n"
     ]
    }
   ],
   "source": [
    "data.info()"
   ]
  },
  {
   "cell_type": "code",
   "execution_count": 96,
   "metadata": {},
   "outputs": [
    {
     "data": {
      "text/plain": [
       "author          16\n",
       "title            0\n",
       "description      8\n",
       "url              0\n",
       "urlToImage       8\n",
       "publishedAt      0\n",
       "content          0\n",
       "source.id      465\n",
       "source.name      0\n",
       "dtype: int64"
      ]
     },
     "execution_count": 96,
     "metadata": {},
     "output_type": "execute_result"
    }
   ],
   "source": [
    "data.isnull().sum()"
   ]
  },
  {
   "cell_type": "code",
   "execution_count": 97,
   "metadata": {},
   "outputs": [
    {
     "data": {
      "text/plain": [
       "Index(['author', 'title', 'description', 'url', 'urlToImage', 'publishedAt',\n",
       "       'content', 'source.id', 'source.name'],\n",
       "      dtype='object')"
      ]
     },
     "execution_count": 97,
     "metadata": {},
     "output_type": "execute_result"
    }
   ],
   "source": [
    "data.columns"
   ]
  },
  {
   "cell_type": "code",
   "execution_count": 98,
   "metadata": {},
   "outputs": [
    {
     "data": {
      "text/html": [
       "<div>\n",
       "<style scoped>\n",
       "    .dataframe tbody tr th:only-of-type {\n",
       "        vertical-align: middle;\n",
       "    }\n",
       "\n",
       "    .dataframe tbody tr th {\n",
       "        vertical-align: top;\n",
       "    }\n",
       "\n",
       "    .dataframe thead th {\n",
       "        text-align: right;\n",
       "    }\n",
       "</style>\n",
       "<table border=\"1\" class=\"dataframe\">\n",
       "  <thead>\n",
       "    <tr style=\"text-align: right;\">\n",
       "      <th></th>\n",
       "      <th>author</th>\n",
       "      <th>title</th>\n",
       "      <th>description</th>\n",
       "      <th>url</th>\n",
       "      <th>urlToImage</th>\n",
       "      <th>publishedAt</th>\n",
       "      <th>content</th>\n",
       "      <th>source.id</th>\n",
       "      <th>source.name</th>\n",
       "    </tr>\n",
       "  </thead>\n",
       "  <tbody>\n",
       "    <tr>\n",
       "      <th>0</th>\n",
       "      <td>Emma Roth</td>\n",
       "      <td>Apple reportedly challenges the UK’s secretive...</td>\n",
       "      <td>Apple is pushing back against the UK’s secret ...</td>\n",
       "      <td>https://www.theverge.com/news/623977/apple-uk-...</td>\n",
       "      <td>https://platform.theverge.com/wp-content/uploa...</td>\n",
       "      <td>2025-03-04T18:29:39Z</td>\n",
       "      <td>Apple is appealing the UKs backdoor order, acc...</td>\n",
       "      <td>the-verge</td>\n",
       "      <td>The Verge</td>\n",
       "    </tr>\n",
       "    <tr>\n",
       "      <th>1</th>\n",
       "      <td>Brenda Stolyar</td>\n",
       "      <td>Apple 11-inch and 13-inch iPad Air : Price, Sp...</td>\n",
       "      <td>The 11-inch and 13-inch tablets have the same ...</td>\n",
       "      <td>https://www.wired.com/story/apple-new-ipad-air...</td>\n",
       "      <td>https://media.wired.com/photos/67c71913d63ae42...</td>\n",
       "      <td>2025-03-04T15:46:35Z</td>\n",
       "      <td>Less than a year after upgrading its iPad Air ...</td>\n",
       "      <td>wired</td>\n",
       "      <td>Wired</td>\n",
       "    </tr>\n",
       "    <tr>\n",
       "      <th>2</th>\n",
       "      <td>Brittany Vincent</td>\n",
       "      <td>Apple AirTag 4-Pack Drops to Below $70 on Amaz...</td>\n",
       "      <td>Why buy one? Apple AirTag 4-Pack is a way bett...</td>\n",
       "      <td>https://gizmodo.com/apple-airtag-4-pack-drops-...</td>\n",
       "      <td>https://gizmodo.com/app/uploads/2025/02/4airta...</td>\n",
       "      <td>2025-03-05T13:10:16Z</td>\n",
       "      <td>Looking to stop losing your stuff? Apple’s Air...</td>\n",
       "      <td>NaN</td>\n",
       "      <td>Gizmodo.com</td>\n",
       "    </tr>\n",
       "  </tbody>\n",
       "</table>\n",
       "</div>"
      ],
      "text/plain": [
       "             author                                              title  \\\n",
       "0         Emma Roth  Apple reportedly challenges the UK’s secretive...   \n",
       "1    Brenda Stolyar  Apple 11-inch and 13-inch iPad Air : Price, Sp...   \n",
       "2  Brittany Vincent  Apple AirTag 4-Pack Drops to Below $70 on Amaz...   \n",
       "\n",
       "                                         description  \\\n",
       "0  Apple is pushing back against the UK’s secret ...   \n",
       "1  The 11-inch and 13-inch tablets have the same ...   \n",
       "2  Why buy one? Apple AirTag 4-Pack is a way bett...   \n",
       "\n",
       "                                                 url  \\\n",
       "0  https://www.theverge.com/news/623977/apple-uk-...   \n",
       "1  https://www.wired.com/story/apple-new-ipad-air...   \n",
       "2  https://gizmodo.com/apple-airtag-4-pack-drops-...   \n",
       "\n",
       "                                          urlToImage           publishedAt  \\\n",
       "0  https://platform.theverge.com/wp-content/uploa...  2025-03-04T18:29:39Z   \n",
       "1  https://media.wired.com/photos/67c71913d63ae42...  2025-03-04T15:46:35Z   \n",
       "2  https://gizmodo.com/app/uploads/2025/02/4airta...  2025-03-05T13:10:16Z   \n",
       "\n",
       "                                             content  source.id  source.name  \n",
       "0  Apple is appealing the UKs backdoor order, acc...  the-verge    The Verge  \n",
       "1  Less than a year after upgrading its iPad Air ...      wired        Wired  \n",
       "2  Looking to stop losing your stuff? Apple’s Air...        NaN  Gizmodo.com  "
      ]
     },
     "execution_count": 98,
     "metadata": {},
     "output_type": "execute_result"
    }
   ],
   "source": [
    "data.head(3)"
   ]
  },
  {
   "cell_type": "markdown",
   "metadata": {},
   "source": [
    "## 2. Предобработка"
   ]
  },
  {
   "cell_type": "markdown",
   "metadata": {},
   "source": [
    "### 2.1 Работа с пропущенными значениями"
   ]
  },
  {
   "cell_type": "code",
   "execution_count": 99,
   "metadata": {},
   "outputs": [],
   "source": [
    "data.dropna(subset=[\"title\", \"content\"], inplace=True)"
   ]
  },
  {
   "cell_type": "code",
   "execution_count": 100,
   "metadata": {},
   "outputs": [
    {
     "data": {
      "text/html": [
       "<div>\n",
       "<style scoped>\n",
       "    .dataframe tbody tr th:only-of-type {\n",
       "        vertical-align: middle;\n",
       "    }\n",
       "\n",
       "    .dataframe tbody tr th {\n",
       "        vertical-align: top;\n",
       "    }\n",
       "\n",
       "    .dataframe thead th {\n",
       "        text-align: right;\n",
       "    }\n",
       "</style>\n",
       "<table border=\"1\" class=\"dataframe\">\n",
       "  <thead>\n",
       "    <tr style=\"text-align: right;\">\n",
       "      <th></th>\n",
       "      <th>author</th>\n",
       "      <th>title</th>\n",
       "      <th>description</th>\n",
       "      <th>url</th>\n",
       "      <th>urlToImage</th>\n",
       "      <th>publishedAt</th>\n",
       "      <th>content</th>\n",
       "      <th>source.id</th>\n",
       "      <th>source.name</th>\n",
       "    </tr>\n",
       "  </thead>\n",
       "  <tbody>\n",
       "    <tr>\n",
       "      <th>14</th>\n",
       "      <td>NaN</td>\n",
       "      <td>Apple introduces new iPad Air with M3 chip, Ap...</td>\n",
       "      <td>NaN</td>\n",
       "      <td>https://consent.yahoo.com/v2/collectConsent?se...</td>\n",
       "      <td>NaN</td>\n",
       "      <td>2025-03-04T15:42:05Z</td>\n",
       "      <td>If you click 'Accept all', we and our partners...</td>\n",
       "      <td>NaN</td>\n",
       "      <td>Yahoo Entertainment</td>\n",
       "    </tr>\n",
       "    <tr>\n",
       "      <th>38</th>\n",
       "      <td>NaN</td>\n",
       "      <td>Novo Nordisk's Wegovy, Apple Air, Palantir: To...</td>\n",
       "      <td>NaN</td>\n",
       "      <td>https://consent.yahoo.com/v2/collectConsent?se...</td>\n",
       "      <td>NaN</td>\n",
       "      <td>2025-03-05T16:37:35Z</td>\n",
       "      <td>If you click 'Accept all', we and our partners...</td>\n",
       "      <td>NaN</td>\n",
       "      <td>Yahoo Entertainment</td>\n",
       "    </tr>\n",
       "    <tr>\n",
       "      <th>46</th>\n",
       "      <td>NaN</td>\n",
       "      <td>Apple M3 Ultra</td>\n",
       "      <td>Apple today announced M3 Ultra, offering the m...</td>\n",
       "      <td>https://www.apple.com/newsroom/2025/03/apple-r...</td>\n",
       "      <td>https://www.apple.com/newsroom/images/2025/03/...</td>\n",
       "      <td>2025-03-05T13:59:50Z</td>\n",
       "      <td>March 5, 2025\\r\\nPRESS RELEASE\\r\\nApple reveal...</td>\n",
       "      <td>NaN</td>\n",
       "      <td>Apple Newsroom</td>\n",
       "    </tr>\n",
       "    <tr>\n",
       "      <th>49</th>\n",
       "      <td>NaN</td>\n",
       "      <td>Apple introduces iPad Air with powerful M3 chi...</td>\n",
       "      <td>Apple today introduced the new iPad Air, power...</td>\n",
       "      <td>https://www.apple.com/newsroom/2025/03/apple-i...</td>\n",
       "      <td>https://www.apple.com/newsroom/images/2025/03/...</td>\n",
       "      <td>2025-03-04T14:02:18Z</td>\n",
       "      <td>March 4, 2025\\r\\nPRESS RELEASE\\r\\nApple introd...</td>\n",
       "      <td>NaN</td>\n",
       "      <td>Apple Newsroom</td>\n",
       "    </tr>\n",
       "    <tr>\n",
       "      <th>88</th>\n",
       "      <td>NaN</td>\n",
       "      <td>Apple unveils new Mac Studio, the most powerfu...</td>\n",
       "      <td>Apple today announced the new Mac Studio, the ...</td>\n",
       "      <td>https://www.apple.com/newsroom/2025/03/apple-u...</td>\n",
       "      <td>https://www.apple.com/newsroom/images/2025/03/...</td>\n",
       "      <td>2025-03-05T14:00:57Z</td>\n",
       "      <td>March 5, 2025\\r\\nPRESS RELEASE\\r\\nApple unveil...</td>\n",
       "      <td>NaN</td>\n",
       "      <td>Apple Newsroom</td>\n",
       "    </tr>\n",
       "  </tbody>\n",
       "</table>\n",
       "</div>"
      ],
      "text/plain": [
       "   author                                              title  \\\n",
       "14    NaN  Apple introduces new iPad Air with M3 chip, Ap...   \n",
       "38    NaN  Novo Nordisk's Wegovy, Apple Air, Palantir: To...   \n",
       "46    NaN                                     Apple M3 Ultra   \n",
       "49    NaN  Apple introduces iPad Air with powerful M3 chi...   \n",
       "88    NaN  Apple unveils new Mac Studio, the most powerfu...   \n",
       "\n",
       "                                          description  \\\n",
       "14                                                NaN   \n",
       "38                                                NaN   \n",
       "46  Apple today announced M3 Ultra, offering the m...   \n",
       "49  Apple today introduced the new iPad Air, power...   \n",
       "88  Apple today announced the new Mac Studio, the ...   \n",
       "\n",
       "                                                  url  \\\n",
       "14  https://consent.yahoo.com/v2/collectConsent?se...   \n",
       "38  https://consent.yahoo.com/v2/collectConsent?se...   \n",
       "46  https://www.apple.com/newsroom/2025/03/apple-r...   \n",
       "49  https://www.apple.com/newsroom/2025/03/apple-i...   \n",
       "88  https://www.apple.com/newsroom/2025/03/apple-u...   \n",
       "\n",
       "                                           urlToImage           publishedAt  \\\n",
       "14                                                NaN  2025-03-04T15:42:05Z   \n",
       "38                                                NaN  2025-03-05T16:37:35Z   \n",
       "46  https://www.apple.com/newsroom/images/2025/03/...  2025-03-05T13:59:50Z   \n",
       "49  https://www.apple.com/newsroom/images/2025/03/...  2025-03-04T14:02:18Z   \n",
       "88  https://www.apple.com/newsroom/images/2025/03/...  2025-03-05T14:00:57Z   \n",
       "\n",
       "                                              content source.id  \\\n",
       "14  If you click 'Accept all', we and our partners...       NaN   \n",
       "38  If you click 'Accept all', we and our partners...       NaN   \n",
       "46  March 5, 2025\\r\\nPRESS RELEASE\\r\\nApple reveal...       NaN   \n",
       "49  March 4, 2025\\r\\nPRESS RELEASE\\r\\nApple introd...       NaN   \n",
       "88  March 5, 2025\\r\\nPRESS RELEASE\\r\\nApple unveil...       NaN   \n",
       "\n",
       "            source.name  \n",
       "14  Yahoo Entertainment  \n",
       "38  Yahoo Entertainment  \n",
       "46       Apple Newsroom  \n",
       "49       Apple Newsroom  \n",
       "88       Apple Newsroom  "
      ]
     },
     "execution_count": 100,
     "metadata": {},
     "output_type": "execute_result"
    }
   ],
   "source": [
    "data[data[\"author\"].isnull()].head()"
   ]
  },
  {
   "cell_type": "code",
   "execution_count": 101,
   "metadata": {},
   "outputs": [],
   "source": [
    "data.dropna(subset=[\"author\"], inplace=True)"
   ]
  },
  {
   "cell_type": "markdown",
   "metadata": {},
   "source": [
    "Была мысль заменить пустых author на Unknown, но данные записи, как видно, не хранят полезную информацию, поэтому удалим"
   ]
  },
  {
   "cell_type": "markdown",
   "metadata": {},
   "source": [
    "### 2.2 Дубликаты"
   ]
  },
  {
   "cell_type": "code",
   "execution_count": 102,
   "metadata": {},
   "outputs": [
    {
     "data": {
      "text/plain": [
       "True"
      ]
     },
     "execution_count": 102,
     "metadata": {},
     "output_type": "execute_result"
    }
   ],
   "source": [
    "data.duplicated(subset=[\"title\", \"content\"]).any()"
   ]
  },
  {
   "cell_type": "markdown",
   "metadata": {},
   "source": [
    "Имеются дубликаты, необходимо удалить"
   ]
  },
  {
   "cell_type": "code",
   "execution_count": 103,
   "metadata": {},
   "outputs": [
    {
     "data": {
      "text/html": [
       "<div>\n",
       "<style scoped>\n",
       "    .dataframe tbody tr th:only-of-type {\n",
       "        vertical-align: middle;\n",
       "    }\n",
       "\n",
       "    .dataframe tbody tr th {\n",
       "        vertical-align: top;\n",
       "    }\n",
       "\n",
       "    .dataframe thead th {\n",
       "        text-align: right;\n",
       "    }\n",
       "</style>\n",
       "<table border=\"1\" class=\"dataframe\">\n",
       "  <thead>\n",
       "    <tr style=\"text-align: right;\">\n",
       "      <th></th>\n",
       "      <th>author</th>\n",
       "      <th>title</th>\n",
       "      <th>description</th>\n",
       "      <th>url</th>\n",
       "      <th>urlToImage</th>\n",
       "      <th>publishedAt</th>\n",
       "      <th>content</th>\n",
       "      <th>source.id</th>\n",
       "      <th>source.name</th>\n",
       "    </tr>\n",
       "  </thead>\n",
       "  <tbody>\n",
       "    <tr>\n",
       "      <th>295</th>\n",
       "      <td>Nathan Le Gohlisse</td>\n",
       "      <td>iPhone et iPad : la honte des versions 64 Go e...</td>\n",
       "      <td>Apple a officiellement tiré un trait sur les m...</td>\n",
       "      <td>https://www.frandroid.com/marques/apple/253033...</td>\n",
       "      <td>https://c0.lestechnophiles.com/images.frandroi...</td>\n",
       "      <td>2025-03-05T10:47:41Z</td>\n",
       "      <td>Apple a officiellement tiré un trait sur les m...</td>\n",
       "      <td>NaN</td>\n",
       "      <td>Frandroid</td>\n",
       "    </tr>\n",
       "  </tbody>\n",
       "</table>\n",
       "</div>"
      ],
      "text/plain": [
       "                 author                                              title  \\\n",
       "295  Nathan Le Gohlisse  iPhone et iPad : la honte des versions 64 Go e...   \n",
       "\n",
       "                                           description  \\\n",
       "295  Apple a officiellement tiré un trait sur les m...   \n",
       "\n",
       "                                                   url  \\\n",
       "295  https://www.frandroid.com/marques/apple/253033...   \n",
       "\n",
       "                                            urlToImage           publishedAt  \\\n",
       "295  https://c0.lestechnophiles.com/images.frandroi...  2025-03-05T10:47:41Z   \n",
       "\n",
       "                                               content source.id source.name  \n",
       "295  Apple a officiellement tiré un trait sur les m...       NaN   Frandroid  "
      ]
     },
     "execution_count": 103,
     "metadata": {},
     "output_type": "execute_result"
    }
   ],
   "source": [
    "data[data.duplicated(subset=[\"title\", \"content\"])]"
   ]
  },
  {
   "cell_type": "code",
   "execution_count": 104,
   "metadata": {},
   "outputs": [],
   "source": [
    "data.drop_duplicates(subset=[\"title\", \"content\"], inplace=True)"
   ]
  },
  {
   "cell_type": "markdown",
   "metadata": {},
   "source": [
    "### 2.3 Фильтрация"
   ]
  },
  {
   "cell_type": "code",
   "execution_count": null,
   "metadata": {},
   "outputs": [
    {
     "data": {
      "text/html": [
       "<div>\n",
       "<style scoped>\n",
       "    .dataframe tbody tr th:only-of-type {\n",
       "        vertical-align: middle;\n",
       "    }\n",
       "\n",
       "    .dataframe tbody tr th {\n",
       "        vertical-align: top;\n",
       "    }\n",
       "\n",
       "    .dataframe thead th {\n",
       "        text-align: right;\n",
       "    }\n",
       "</style>\n",
       "<table border=\"1\" class=\"dataframe\">\n",
       "  <thead>\n",
       "    <tr style=\"text-align: right;\">\n",
       "      <th></th>\n",
       "      <th>author</th>\n",
       "      <th>title</th>\n",
       "      <th>description</th>\n",
       "      <th>url</th>\n",
       "      <th>content</th>\n",
       "    </tr>\n",
       "  </thead>\n",
       "  <tbody>\n",
       "    <tr>\n",
       "      <th>0</th>\n",
       "      <td>Emma Roth</td>\n",
       "      <td>Apple reportedly challenges the UK’s secretive...</td>\n",
       "      <td>Apple is pushing back against the UK’s secret ...</td>\n",
       "      <td>https://www.theverge.com/news/623977/apple-uk-...</td>\n",
       "      <td>Apple is appealing the UKs backdoor order, acc...</td>\n",
       "    </tr>\n",
       "    <tr>\n",
       "      <th>1</th>\n",
       "      <td>Brenda Stolyar</td>\n",
       "      <td>Apple 11-inch and 13-inch iPad Air : Price, Sp...</td>\n",
       "      <td>The 11-inch and 13-inch tablets have the same ...</td>\n",
       "      <td>https://www.wired.com/story/apple-new-ipad-air...</td>\n",
       "      <td>Less than a year after upgrading its iPad Air ...</td>\n",
       "    </tr>\n",
       "    <tr>\n",
       "      <th>2</th>\n",
       "      <td>Brittany Vincent</td>\n",
       "      <td>Apple AirTag 4-Pack Drops to Below $70 on Amaz...</td>\n",
       "      <td>Why buy one? Apple AirTag 4-Pack is a way bett...</td>\n",
       "      <td>https://gizmodo.com/apple-airtag-4-pack-drops-...</td>\n",
       "      <td>Looking to stop losing your stuff? Apple’s Air...</td>\n",
       "    </tr>\n",
       "  </tbody>\n",
       "</table>\n",
       "</div>"
      ],
      "text/plain": [
       "             author                                              title  \\\n",
       "0         Emma Roth  Apple reportedly challenges the UK’s secretive...   \n",
       "1    Brenda Stolyar  Apple 11-inch and 13-inch iPad Air : Price, Sp...   \n",
       "2  Brittany Vincent  Apple AirTag 4-Pack Drops to Below $70 on Amaz...   \n",
       "\n",
       "                                         description  \\\n",
       "0  Apple is pushing back against the UK’s secret ...   \n",
       "1  The 11-inch and 13-inch tablets have the same ...   \n",
       "2  Why buy one? Apple AirTag 4-Pack is a way bett...   \n",
       "\n",
       "                                                 url  \\\n",
       "0  https://www.theverge.com/news/623977/apple-uk-...   \n",
       "1  https://www.wired.com/story/apple-new-ipad-air...   \n",
       "2  https://gizmodo.com/apple-airtag-4-pack-drops-...   \n",
       "\n",
       "                                             content  \n",
       "0  Apple is appealing the UKs backdoor order, acc...  \n",
       "1  Less than a year after upgrading its iPad Air ...  \n",
       "2  Looking to stop losing your stuff? Apple’s Air...  "
      ]
     },
     "execution_count": 105,
     "metadata": {},
     "output_type": "execute_result"
    }
   ],
   "source": [
    "data.drop(columns=[\"urlToImage\", \"source.id\", \"source.name\"], inplace=True)\n",
    "data.head(3)"
   ]
  },
  {
   "cell_type": "markdown",
   "metadata": {},
   "source": [
    "# Посмотреть, как решается задача определения тональности. На основе этого провести очистку текста (удаление лишних символов, приведение к регистру, очистку от стоп-слов)"
   ]
  },
  {
   "cell_type": "markdown",
   "metadata": {},
   "source": [
    "## Какие задачи необходимо решить:\n",
    "- Подсчет самых частых слов\n",
    "- Определение тональности\n",
    "- Определение главных тем"
   ]
  },
  {
   "cell_type": "markdown",
   "metadata": {},
   "source": [
    "### Подсчет самых частых слов"
   ]
  },
  {
   "cell_type": "code",
   "execution_count": 106,
   "metadata": {},
   "outputs": [
    {
     "data": {
      "text/plain": [
       "'Apple is appealing the UKs backdoor order, according to the Financial Times.\\r\\nApple is appealing the UKs backdoor order, according to the Financial Times.\\r\\nApple is pushing back against the UKs secre… [+1157 chars]'"
      ]
     },
     "execution_count": 106,
     "metadata": {},
     "output_type": "execute_result"
    }
   ],
   "source": [
    "data.loc[0].content"
   ]
  }
 ],
 "metadata": {
  "kernelspec": {
   "display_name": "base",
   "language": "python",
   "name": "python3"
  },
  "language_info": {
   "codemirror_mode": {
    "name": "ipython",
    "version": 3
   },
   "file_extension": ".py",
   "mimetype": "text/x-python",
   "name": "python",
   "nbconvert_exporter": "python",
   "pygments_lexer": "ipython3",
   "version": "3.12.7"
  }
 },
 "nbformat": 4,
 "nbformat_minor": 2
}
